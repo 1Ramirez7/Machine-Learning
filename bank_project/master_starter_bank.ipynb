{
  "cells": [
    {
      "cell_type": "code",
      "execution_count": null,
      "metadata": {
        "id": "mA0HPVmIBT4C"
      },
      "outputs": [],
      "source": [
        "# Load some test data\n",
        "import numpy as np\n",
        "import pandas as pd\n",
        "import matplotlib.pyplot as plt\n",
        "from sklearn.tree import DecisionTreeClassifier, export_graphviz\n",
        "from sklearn.model_selection import train_test_split\n",
        "from sklearn.metrics import accuracy_score\n",
        "from sklearn.preprocessing import LabelEncoder\n",
        "import graphviz\n",
        "\n",
        "\n",
        "data = pd.read_csv(\"https://raw.githubusercontent.com/byui-cse/cse450-course/master/data/bank.csv\")\n",
        "data.head()\n",
        "# Drop missing values from embarked\n",
        "data = data.dropna()"
      ]
    },
    {
      "cell_type": "markdown",
      "metadata": {},
      "source": [
        "The above loads the require libraries and reads the bank csv file\n",
        "\n",
        "The code below runs a decision tree and nothing special about it besides that it follows the sample decision tree code provided in this module. "
      ]
    },
    {
      "cell_type": "code",
      "execution_count": null,
      "metadata": {
        "id": "StiU5QcPPxqQ"
      },
      "outputs": [],
      "source": [
        "# Apply the hard rule: Remove all \"student\" job entries\n",
        "#data = data[data['job'] != 'student']\n",
        "\n",
        "# List of job categories to be grouped as \"unwanted\"\n",
        "unwanted_jobs = ['blue-collar', 'services', 'housemaid', 'entrepreneur']  # Add more as needed\n",
        "data['job'] = data['job'].replace(unwanted_jobs, 'unwanted')\n",
        "\n",
        "unwanted_education = ['basic.9y', 'basic.6y']  # Add more as needed\n",
        "data['education'] = data['education'].replace(unwanted_education, 'basic9n6y')\n",
        "\n",
        "data['campaign'] = np.where(data['campaign'] > 17, 18, data['campaign'])\n",
        "\n",
        "\n",
        "# Encode categorical variables\n",
        "categorical_cols = ['job', 'marital', 'education', 'default', 'housing', 'loan', \n",
        "                    'contact', 'month', 'day_of_week', 'poutcome']\n",
        "label_encoders = {}\n",
        "for col in categorical_cols:\n",
        "    le = LabelEncoder()\n",
        "    data[col] = le.fit_transform(data[col])\n",
        "    label_encoders[col] = le\n",
        "\n",
        "# Encode our features and target as needed\n",
        "features = ['age', 'job', 'marital', 'education', 'default', 'housing', 'loan', \n",
        "            'campaign', 'pdays', 'previous', 'poutcome', 'emp.var.rate', \n",
        "            'cons.price.idx', 'cons.conf.idx', 'euribor3m', 'nr.employed'] # , 'age', 'default'\n",
        "X = pd.get_dummies(data[features], drop_first=True)\n",
        "y = data['y'].map({'yes': 1, 'no': 0})  # Convert target to binary (1,0)\n",
        "\n",
        "# Split our data into training and test data, with 30% reserved for testing\n",
        "X_train, X_test, y_train, y_test = train_test_split(X, y, test_size=0.30, random_state=42)\n",
        "\n",
        "# Build the decision tree\n",
        "clf = DecisionTreeClassifier(\n",
        "    criterion=\"gini\", # gini, entropy\n",
        "    max_depth=4,  # Prevents overfitting\n",
        "    min_samples_split=10,  # Ensures sufficient samples per split\n",
        "    random_state=42\n",
        ")\n",
        "\n",
        "# Train it\n",
        "clf.fit(X_train, y_train)\n",
        "\n",
        "# Test and evaluate\n",
        "y_pred = clf.predict(X_test)\n",
        "accuracy = accuracy_score(y_test, y_pred)\n",
        "\n",
        "print(f\"Model Accuracy: {accuracy:.4f}\")"
      ]
    },
    {
      "cell_type": "markdown",
      "metadata": {},
      "source": [
        "The code below makes a decision tree vizual. It will download an imagine just fyi"
      ]
    },
    {
      "cell_type": "code",
      "execution_count": null,
      "metadata": {
        "id": "ALLMN63FPyEQ"
      },
      "outputs": [],
      "source": [
        "# Generate high-quality decision tree visualization using Graphviz\n",
        "dot_data = export_graphviz(clf, out_file=None, \n",
        "                           feature_names=X.columns,  \n",
        "                           class_names=[\"No\", \"Yes\"],  \n",
        "                           filled=True, rounded=True,  \n",
        "                           special_characters=True)  \n",
        "\n",
        "# Render and display the decision tree\n",
        "graph = graphviz.Source(dot_data)\n",
        "graph.format = \"png\"  # Set output format\n",
        "graph.render(\"decision_tree\")  # Save as file\n",
        "\n",
        "# Display the generated tree\n",
        "graph.view()"
      ]
    },
    {
      "cell_type": "markdown",
      "metadata": {},
      "source": [
        "The code below is the one that uses the above machine learning model to do predictions on the hold out data set. \n",
        "\n",
        "once downloaded the column still needs to be rename to 'predictions'. I guess i can just add code to change the name of that column. \n",
        "\n"
      ]
    },
    {
      "cell_type": "code",
      "execution_count": null,
      "metadata": {
        "id": "RnGBwGVZPyyh"
      },
      "outputs": [],
      "source": [
        "# Load the holdout dataset\n",
        "holdout_data = pd.read_csv(\"https://raw.githubusercontent.com/byui-cse/cse450-course/master/data/bank_holdout_test.csv\")\n",
        "\n",
        "# Perform the same transformations as on the training set\n",
        "holdout_data_encoded = pd.get_dummies(holdout_data[features], drop_first=True)\n",
        "\n",
        "# Align the columns of holdout_data_encoded with X (training data)\n",
        "holdout_data_encoded = holdout_data_encoded.reindex(columns=X.columns, fill_value=0)\n",
        "\n",
        "# Make predictions on the holdout dataset\n",
        "holdout_predictions = clf.predict(holdout_data_encoded)\n",
        "\n",
        "# Convert the predictions to a DataFrame and label the column 'y'\n",
        "predictions_df = pd.DataFrame(holdout_predictions, columns=['y'])\n",
        "\n",
        "# Save the predictions to a CSV file\n",
        "team_number = \"3\"  # Replace with your team number\n",
        "file_name = f\"team{team_number}-module2-predictions.csv\"\n",
        "predictions_df.to_csv(file_name, index=False)\n",
        "\n",
        "print(f\"Predictions saved to {file_name}\")"
      ]
    },
    {
      "cell_type": "markdown",
      "metadata": {},
      "source": []
    },
    {
      "cell_type": "code",
      "execution_count": null,
      "metadata": {
        "id": "CVSfaqgKPzE2"
      },
      "outputs": [],
      "source": []
    }
  ],
  "metadata": {
    "colab": {
      "name": "starter_bank.ipynb",
      "provenance": []
    },
    "kernelspec": {
      "display_name": "Python 3",
      "name": "python3"
    }
  },
  "nbformat": 4,
  "nbformat_minor": 0
}
