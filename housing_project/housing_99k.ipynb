{
 "cells": [
  {
   "cell_type": "code",
   "execution_count": null,
   "metadata": {},
   "outputs": [],
   "source": [
    "!pip install scikit-learn==1.5.2\n",
    "# run this line without the '!' in your terminal to have it installed locally\n",
    "# then you can skip running this\n",
    "\n",
    "\n",
    "#\n",
    "#  Mini-holdout results:\n",
    "#  - RMSE: $99,071\n",
    "#  - R^2:  0.879\n",
    "#  This model gets lucky on predicting the mini-holdout set. We will keep it\n",
    "#  in case we need it.\n",
    "#\n",
    "#"
   ]
  },
  {
   "cell_type": "code",
   "execution_count": 1,
   "metadata": {},
   "outputs": [],
   "source": [
    "import xgboost as xgb\n",
    "import pandas as pd\n",
    "import numpy as np\n",
    "import matplotlib.pyplot as plt\n",
    "from sklearn.model_selection import train_test_split\n",
    "from sklearn.metrics import root_mean_squared_error, r2_score\n",
    "from sklearn.preprocessing import MinMaxScaler\n",
    "\n",
    "class BoostClass:\n",
    "    r2 =0\n",
    "    rmse = 0\n",
    "    n_estimators = 0\n",
    "    max_depth = 0\n",
    "    model = None\n",
    "\n",
    "    def __init__(self, r2 ,rmse , n_estimators , max_depth,model ):\n",
    "        self.r2 =r2\n",
    "        self.rmse = rmse\n",
    "        self.n_estimators = n_estimators\n",
    "        self.max_depth = max_depth\n",
    "        self.model = model\n",
    "\n",
    "    def toString(self):\n",
    "        return \"r2: \" , self.r2 , \", rmse:\" , self.rmse , \", n_estimators:\" , self.n_estimators , \", max depth:\" , self.max_depth\n",
    "\n",
    "def fixData(housing):\n",
    "    \"\"\"This removes the price column if it exists\"\"\"\n",
    "    if \"price\" in housing.columns:\n",
    "        housing = housing.drop([\"price\"], axis=1)\n",
    "        \n",
    "    # Convert the date column to datetime format\n",
    "    housing['date'] = pd.to_datetime(housing['date'], format='%Y%m%dT%H%M%S')\n",
    "\n",
    "    housing['day'] = housing['date'].dt.day\n",
    "    # Calculate the number of days in the current year\n",
    "    # housing['days_since_april_1st'] = (housing['date'].dt.dayofyear + 365 - 91) % 365\n",
    "    # SUBTRACTS from score\n",
    "\n",
    "    housing = housing.drop([\"id\", \"date\", \"day\"], axis=1)\n",
    "\n",
    "    # Add total sqft to housing\n",
    "\n",
    "\n",
    "    # SUBTRACTS from score\n",
    "    # housing[\"total_sqft\"] = housing[\"sqft_basement\"] + housing[\"sqft_living\"]\n",
    "    # # housing[\"age_since_renovation\"] = 2025 - housing[\"yr_renovated\"] if housing[\"yr_renovated\"] != 0 else 2025 - housing[\"yr_built\"]\n",
    "    # # Calculate age since renovation or age since built\n",
    "    # housing[\"age_since_renovation\"] = housing.apply(lambda row: 2025 - row[\"yr_renovated\"] if row[\"yr_renovated\"] != 0 else 2025 - row[\"yr_built\"], axis=1)\n",
    "\n",
    "\n",
    "    # for sqft in ['sqft_basement', 'sqft_living', 'sqft_lot', 'sqft_above', 'sqft_living15', 'sqft_lot15', 'total_sqft']:\n",
    "    #     housing[sqft] = scaler.fit_transform(housing[[sqft]])\n",
    "\n",
    "\n",
    "    # SUBTRACTS from score\n",
    "    # turn zip code into category\n",
    "    # housing[\"zipcode\"] = housing[\"zipcode\"].astype(\"category\")\n",
    "    # #Turn all categories into dummies\n",
    "    # housing = pd.get_dummies(housing)\n",
    "\n",
    "    # do this ^ or that \\/ or neither. Not Both!\n",
    "\n",
    "    # housing = housing.drop(\"zipcode\", axis=1)\n",
    "    print(\"COLUMNS: \",housing.columns)\n",
    "\n",
    "    return housing"
   ]
  },
  {
   "cell_type": "code",
   "execution_count": 8,
   "metadata": {},
   "outputs": [
    {
     "name": "stderr",
     "output_type": "stream",
     "text": [
      "C:\\Users\\david\\AppData\\Local\\Temp\\ipykernel_15936\\141100653.py:3: SettingWithCopyWarning: \n",
      "A value is trying to be set on a copy of a slice from a DataFrame.\n",
      "Try using .loc[row_indexer,col_indexer] = value instead\n",
      "\n",
      "See the caveats in the documentation: https://pandas.pydata.org/pandas-docs/stable/user_guide/indexing.html#returning-a-view-versus-a-copy\n",
      "  priced[\"price_k\"] = priced[\"price\"] / 1000\n",
      "C:\\Users\\david\\AppData\\Local\\Temp\\ipykernel_15936\\141100653.py:4: SettingWithCopyWarning: \n",
      "A value is trying to be set on a copy of a slice from a DataFrame.\n",
      "Try using .loc[row_indexer,col_indexer] = value instead\n",
      "\n",
      "See the caveats in the documentation: https://pandas.pydata.org/pandas-docs/stable/user_guide/indexing.html#returning-a-view-versus-a-copy\n",
      "  priced[\"is_rich\"] = housing[\"price\"] > 1000000\n"
     ]
    },
    {
     "data": {
      "text/plain": [
       "<Axes: xlabel='price_k', ylabel='bedrooms'>"
      ]
     },
     "execution_count": 8,
     "metadata": {},
     "output_type": "execute_result"
    },
    {
     "data": {
      "image/png": "[encoded data removed]",
      "text/plain": [
       "<Figure size 640x480 with 1 Axes>"
      ]
     },
     "metadata": {},
     "output_type": "display_data"
    }
   ],
   "source": [
    "# housing.info()\n",
    "priced = housing[[\"lat\",\"long\",\"price\", \"bedrooms\"]]\n",
    "priced[\"price_k\"] = priced[\"price\"] / 1000\n",
    "priced[\"is_rich\"] = housing[\"price\"] > 1000000\n",
    "# plt.figure(figsize=(12,8))\n",
    "# priced.plot.scatter(x=\"lat\", y=\"long\", c = priced[\"is_rich\"].map({True: \"red\", False: \"blue\"}), s = 10)\n",
    "# counts = priced[\"price\"].value_counts()\n",
    "priced.plot.scatter(x=\"price_k\", y= \"bedrooms\")"
   ]
  },
  {
   "cell_type": "code",
   "execution_count": 28,
   "metadata": {},
   "outputs": [
    {
     "name": "stdout",
     "output_type": "stream",
     "text": [
      "COLUMNS:  Index(['bedrooms', 'bathrooms', 'sqft_living', 'sqft_lot', 'floors',\n",
      "       'waterfront', 'view', 'condition', 'grade', 'sqft_above',\n",
      "       'sqft_basement', 'yr_built', 'yr_renovated', 'zipcode', 'lat', 'long',\n",
      "       'sqft_living15', 'sqft_lot15'],\n",
      "      dtype='object')\n",
      "   bedrooms  bathrooms  sqft_living  sqft_lot  floors  waterfront  view  \\\n",
      "0         4       3.25         3760      4675     2.0           0     0   \n",
      "1         3       1.75         1460      7800     1.0           0     0   \n",
      "2         4       1.00         1340      5800     1.5           0     2   \n",
      "3         3       1.75         1440      8050     1.0           0     0   \n",
      "4         2       1.50         1780      4750     1.0           0     0   \n",
      "\n",
      "   condition  grade  sqft_above  sqft_basement  yr_built  yr_renovated  \\\n",
      "0          3      8        2740           1020      2007             0   \n",
      "1          2      7        1040            420      1979             0   \n",
      "2          3      7        1340              0      1914             0   \n",
      "3          3      8        1440              0      1985             0   \n",
      "4          4      7        1080            700      1947             0   \n",
      "\n",
      "   zipcode      lat     long  sqft_living15  sqft_lot15  \n",
      "0    98038  47.3862 -122.048           3280        4033  \n",
      "1    98023  47.3035 -122.382           1310        7865  \n",
      "2    98116  47.5658 -122.389           1900        5800  \n",
      "3    98023  47.3187 -122.390           1790        7488  \n",
      "4    98117  47.6859 -122.395           1690        5962  \n"
     ]
    }
   ],
   "source": [
    "# Load dataset\n",
    "housing = pd.read_csv('https://raw.githubusercontent.com/byui-cse/cse450-course/master/data/housing.csv')\n",
    "# scaler = MinMaxScaler(feature_range=(0, 1))\n",
    "# housing[\"price\"] = scaler.fit_transform(housing[[\"price\"]])\n",
    "# housing = housing[housing[\"bedrooms\"] < 30] # removes one odd outlier\n",
    "y = np.log1p(housing[\"price\"])  # Log transform target\n",
    "\n",
    "X = fixData(housing)\n",
    "print(X.head())"
   ]
  },
  {
   "cell_type": "code",
   "execution_count": 29,
   "metadata": {},
   "outputs": [],
   "source": [
    "# DO NOT RUN MORE THAN ONCE, we want to keep these variables\n",
    "boostClassList = []\n",
    "bestClass = None\n",
    "# best RMSE so far is ~127000\n",
    "# 1700 n-estimators, 5 depth"
   ]
  },
  {
   "cell_type": "code",
   "execution_count": 30,
   "metadata": {},
   "outputs": [
    {
     "name": "stdout",
     "output_type": "stream",
     "text": [
      "R² Score: 0.8911\n",
      "RMSE: 128148.9563\n",
      "estimators:  1742 , depth:  6\n",
      "Done!\n",
      "('r2: ', 0.9058821995518188, ', rmse:', 128148.95630794528, ', n_estimators:', 1742, ', max depth:', 6)\n"
     ]
    }
   ],
   "source": [
    "# Split into train and test sets\n",
    "X_train, X_test, y_train, y_test = train_test_split(X, y, test_size=0.20, random_state=42)\n",
    "\n",
    "\n",
    "# Create XGBoost regressor\n",
    "for n in range(1):\n",
    "    for colsample in range(1):\n",
    "        n = 1742\n",
    "        d = 6\n",
    "        model = xgb.XGBRegressor(objective=\"reg:squarederror\", eval_metric=\"rmse\", subsample=0.6,\n",
    "                            n_estimators=n, max_depth=d, learning_rate=0.01, colsample_bytree=0.7)\n",
    "\n",
    "        # Train model\n",
    "        model.fit(X_train, y_train)\n",
    "\n",
    "        # Make predictions on test set\n",
    "        y_pred = model.predict(X_test)\n",
    "        y_non_log_test = np.expm1(y_test)\n",
    "        y_non_log_pred = np.expm1(y_pred)\n",
    "\n",
    "        rmse = root_mean_squared_error(y_non_log_test, y_non_log_pred)\n",
    "        # return from a log of cost to cost\n",
    "        r2 = r2_score(y_test, y_pred)  # Compute R^2\n",
    "        r2_non_log = r2_score(y_non_log_test, y_non_log_pred)\n",
    "\n",
    "        print(f\"R² Score: {r2_non_log:.4f}\")\n",
    "        print(f\"RMSE: {rmse:.4f}\")\n",
    "        print(\"estimators: \",n,\", depth: \",d)\n",
    "\n",
    "        boostClass = BoostClass(r2, rmse, n, d, model)\n",
    "        boostClassList.append(boostClass)\n",
    "        if (bestClass != None):\n",
    "            if (boostClass.r2 > bestClass.r2):\n",
    "                bestClass = boostClass\n",
    "        else:\n",
    "            bestClass = boostClass\n",
    "print(\"Done!\")\n",
    "# Evaluate performance\n",
    "print(bestClass.toString())"
   ]
  },
  {
   "cell_type": "code",
   "execution_count": 31,
   "metadata": {},
   "outputs": [
    {
     "name": "stdout",
     "output_type": "stream",
     "text": [
      "COLUMNS:  Index(['bedrooms', 'bathrooms', 'sqft_living', 'sqft_lot', 'floors',\n",
      "       'waterfront', 'view', 'condition', 'grade', 'sqft_above',\n",
      "       'sqft_basement', 'yr_built', 'yr_renovated', 'zipcode', 'lat', 'long',\n",
      "       'sqft_living15', 'sqft_lot15'],\n",
      "      dtype='object')\n"
     ]
    }
   ],
   "source": [
    "# Load the holdout dataset\n",
    "holdout_data = pd.read_csv('https://raw.githubusercontent.com/byui-cse/cse450-course/master/data/housing_holdout_test_mini.csv')\n",
    "\n",
    "X_holdout = fixData(holdout_data)\n",
    "\n",
    "# Predict using the trained model\n",
    "y_holdout_pred = model.predict(X_holdout)\n",
    "\n",
    "# Convert predictions back to original scale\n",
    "y_holdout_pred_original = np.expm1(y_holdout_pred)\n",
    "\n",
    "# Create DataFrame with correct format\n",
    "predictions_df = pd.DataFrame({\"price\": y_holdout_pred_original})\n"
   ]
  },
  {
   "cell_type": "code",
   "execution_count": 21,
   "metadata": {},
   "outputs": [
    {
     "name": "stdout",
     "output_type": "stream",
     "text": [
      "Predictions saved as team8-module3-predictions.csv\n"
     ]
    }
   ],
   "source": [
    "\n",
    "# Save in the required format\n",
    "team_name = \"team8\"  # Replace with your actual team name\n",
    "filename = f\"{team_name}-module3-predictions.csv\"\n",
    "predictions_df.to_csv(filename, index=False)\n",
    "\n",
    "print(f\"Predictions saved as {filename}\")"
   ]
  },
  {
   "cell_type": "code",
   "execution_count": 32,
   "metadata": {},
   "outputs": [
    {
     "name": "stdout",
     "output_type": "stream",
     "text": [
      "RMSE:  99075.32766431198 | r2:  0.8798636447434708\n"
     ]
    }
   ],
   "source": [
    "#Take the predictions on the holdout data set and compare them to the actual prices found in this file\n",
    "actual_df = pd.read_csv(\"https://raw.githubusercontent.com/byui-cse/cse450-course/refs/heads/master/data/housing_holdout_test_mini_answers.csv\")\n",
    "rmse = root_mean_squared_error(actual_df, predictions_df)\n",
    "r2 = r2_score(actual_df, predictions_df)\n",
    "print(\"RMSE: \", rmse, \"| r2: \", r2)"
   ]
  }
 ],
 "metadata": {
  "kernelspec": {
   "display_name": "Python 3",
   "language": "python",
   "name": "python3"
  },
  "language_info": {
   "codemirror_mode": {
    "name": "ipython",
    "version": 3
   },
   "file_extension": ".py",
   "mimetype": "text/x-python",
   "name": "python",
   "nbconvert_exporter": "python",
   "pygments_lexer": "ipython3",
   "version": "3.12.0"
  }
 },
 "nbformat": 4,
 "nbformat_minor": 2
}
