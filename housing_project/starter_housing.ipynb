{
  "cells": [
    {
      "cell_type": "code",
      "execution_count": null,
      "metadata": {},
      "outputs": [],
      "source": [
        "class boostClass:\n",
        "    r2 =0\n",
        "    rmse = 0\n",
        "    n_estimators = 0\n",
        "    max_depth = 0\n",
        "    model = None"
      ]
    },
    {
      "cell_type": "code",
      "execution_count": null,
      "metadata": {
        "colab": {
          "base_uri": "https://localhost:8080/"
        },
        "id": "agwL8iwQuC9g",
        "outputId": "21c49095-14e8-4808-a712-b6283ed1656c"
      },
      "outputs": [
        {
          "name": "stdout",
          "output_type": "stream",
          "text": [
            "Requirement already satisfied: scikit-learn==1.5.2 in c:\\python312\\lib\\site-packages (1.5.2)\n",
            "Requirement already satisfied: numpy>=1.19.5 in c:\\python312\\lib\\site-packages (from scikit-learn==1.5.2) (1.26.4)\n",
            "Requirement already satisfied: scipy>=1.6.0 in c:\\users\\david\\appdata\\roaming\\python\\python312\\site-packages (from scikit-learn==1.5.2) (1.15.1)\n",
            "Requirement already satisfied: joblib>=1.2.0 in c:\\users\\david\\appdata\\roaming\\python\\python312\\site-packages (from scikit-learn==1.5.2) (1.4.2)\n",
            "Requirement already satisfied: threadpoolctl>=3.1.0 in c:\\users\\david\\appdata\\roaming\\python\\python312\\site-packages (from scikit-learn==1.5.2) (3.5.0)\n"
          ]
        },
        {
          "name": "stderr",
          "output_type": "stream",
          "text": [
            "WARNING: Ignoring invalid distribution ~ (C:\\Python312\\Lib\\site-packages)\n",
            "WARNING: Ignoring invalid distribution ~-p (C:\\Python312\\Lib\\site-packages)\n",
            "WARNING: Ignoring invalid distribution ~ip (C:\\Python312\\Lib\\site-packages)\n",
            "WARNING: Ignoring invalid distribution ~~p (C:\\Python312\\Lib\\site-packages)\n",
            "WARNING: Ignoring invalid distribution ~ (C:\\Python312\\Lib\\site-packages)\n",
            "WARNING: Ignoring invalid distribution ~-p (C:\\Python312\\Lib\\site-packages)\n",
            "WARNING: Ignoring invalid distribution ~ip (C:\\Python312\\Lib\\site-packages)\n",
            "WARNING: Ignoring invalid distribution ~~p (C:\\Python312\\Lib\\site-packages)\n",
            "WARNING: Ignoring invalid distribution ~ (C:\\Python312\\Lib\\site-packages)\n",
            "WARNING: Ignoring invalid distribution ~-p (C:\\Python312\\Lib\\site-packages)\n",
            "WARNING: Ignoring invalid distribution ~ip (C:\\Python312\\Lib\\site-packages)\n",
            "WARNING: Ignoring invalid distribution ~~p (C:\\Python312\\Lib\\site-packages)\n",
            "\n",
            "[notice] A new release of pip is available: 24.3.1 -> 25.0\n",
            "[notice] To update, run: python.exe -m pip install --upgrade pip\n"
          ]
        }
      ],
      "source": [
        "!pip install scikit-learn==1.5.2\n",
        "# run this line without the '!' in your terminal to have it installed locally\n",
        "# then you can skip running this\n",
        "\n",
        "\n",
        "\n",
        "# create days_since_april_1 column\n",
        "# convert dateTime to days out of 365\n",
        "# for each value, add 365, subtract april 1st as a number of days\n",
        "# for each value, mod by 365"
      ]
    },
    {
      "cell_type": "code",
      "execution_count": 14,
      "metadata": {
        "id": "mA0HPVmIBT4C"
      },
      "outputs": [],
      "source": [
        "import xgboost as xgb\n",
        "import pandas as pd\n",
        "import numpy as np\n",
        "from sklearn.model_selection import train_test_split\n",
        "from sklearn.metrics import mean_squared_error, r2_score"
      ]
    },
    {
      "cell_type": "code",
      "execution_count": 15,
      "metadata": {
        "id": "StiU5QcPPxqQ"
      },
      "outputs": [],
      "source": [
        "# Load dataset\n",
        "housing = pd.read_csv('https://raw.githubusercontent.com/byui-cse/cse450-course/master/data/housing.csv')\n",
        "y = np.log1p(housing[\"price\"])  # Log transform target\n",
        "\n",
        "X = housing.drop([\"price\", \"id\", \"date\"], axis=1)\n",
        "X = pd.get_dummies(X)"
      ]
    },
    {
      "cell_type": "code",
      "execution_count": 4,
      "metadata": {},
      "outputs": [
        {
          "name": "stdout",
          "output_type": "stream",
          "text": [
            "<class 'pandas.core.frame.DataFrame'>\n",
            "RangeIndex: 20000 entries, 0 to 19999\n",
            "Data columns (total 18 columns):\n",
            " #   Column         Non-Null Count  Dtype  \n",
            "---  ------         --------------  -----  \n",
            " 0   bedrooms       20000 non-null  int64  \n",
            " 1   bathrooms      20000 non-null  float64\n",
            " 2   sqft_living    20000 non-null  int64  \n",
            " 3   sqft_lot       20000 non-null  int64  \n",
            " 4   floors         20000 non-null  float64\n",
            " 5   waterfront     20000 non-null  int64  \n",
            " 6   view           20000 non-null  int64  \n",
            " 7   condition      20000 non-null  int64  \n",
            " 8   grade          20000 non-null  int64  \n",
            " 9   sqft_above     20000 non-null  int64  \n",
            " 10  sqft_basement  20000 non-null  int64  \n",
            " 11  yr_built       20000 non-null  int64  \n",
            " 12  yr_renovated   20000 non-null  int64  \n",
            " 13  zipcode        20000 non-null  int64  \n",
            " 14  lat            20000 non-null  float64\n",
            " 15  long           20000 non-null  float64\n",
            " 16  sqft_living15  20000 non-null  int64  \n",
            " 17  sqft_lot15     20000 non-null  int64  \n",
            "dtypes: float64(4), int64(14)\n",
            "memory usage: 2.7 MB\n"
          ]
        }
      ],
      "source": [
        "X.info()"
      ]
    },
    {
      "cell_type": "code",
      "execution_count": 5,
      "metadata": {
        "id": "zUr7LKauv1oU"
      },
      "outputs": [],
      "source": [
        "# Split into train and test sets\n",
        "X_train, X_test, y_train, y_test = train_test_split(X, y, test_size=0.2, random_state=42)\n",
        "\n",
        "# Create XGBoost regressor\n",
        "model = xgb.XGBRegressor(objective=\"reg:squarederror\", eval_metric=\"rmse\", subsample=0.6,\n",
        "                         n_estimators=1500, max_depth=7, learning_rate=0.01, colsample_bytree=0.7)\n",
        "\n",
        "# Train model\n",
        "model.fit(X_train, y_train)\n",
        "\n",
        "# Make predictions on test set\n",
        "y_pred = model.predict(X_test)"
      ]
    },
    {
      "cell_type": "code",
      "execution_count": 21,
      "metadata": {
        "colab": {
          "base_uri": "https://localhost:8080/"
        },
        "id": "XpwL0PycUlt-",
        "outputId": "bde21f2d-7a3e-4084-8246-17c4d133cf21"
      },
      "outputs": [
        {
          "name": "stdout",
          "output_type": "stream",
          "text": [
            "R² Score: 0.9058 0.8853\n",
            "RMSE: 131522.3018\n"
          ]
        }
      ],
      "source": [
        "# Evaluate performance\n",
        "y_non_log_test = np.expm1(y_test)\n",
        "y_non_log_pred = np.expm1(y_pred)\n",
        "\n",
        "mse = mean_squared_error(y_non_log_test, y_non_log_pred)\n",
        "rmse = np.sqrt(mse)  # Compute RMSE\n",
        "# return from a log of cost to cost\n",
        "# rmse = np.expm1(rmse)\n",
        "r2 = r2_score(y_test, y_pred)  # Compute R^2\n",
        "r2_2 = r2_score(y_non_log_test, y_non_log_pred)  # Compute R^2\n",
        "\n",
        "print(f\"R² Score: {r2:.4f} {r2_2:.4f}\")\n",
        "print(f\"RMSE: {rmse:.4f}\")"
      ]
    },
    {
      "cell_type": "code",
      "execution_count": 22,
      "metadata": {
        "id": "pSHFJzvIUpTh"
      },
      "outputs": [],
      "source": [
        "# Load the holdout dataset\n",
        "holdout_data = pd.read_csv('https://raw.githubusercontent.com/byui-cse/cse450-course/master/data/housing_holdout_test_mini.csv')\n",
        "\n",
        "# Drop unnecessary columns\n",
        "X_holdout = holdout_data.drop([\"id\", \"date\"], axis=1)\n",
        "\n",
        "# Predict using the trained model\n",
        "y_holdout_pred = model.predict(X_holdout)\n",
        "\n",
        "# Convert predictions back to original scale\n",
        "y_holdout_pred_original = np.expm1(y_holdout_pred)\n",
        "\n",
        "# Create DataFrame with correct format\n",
        "predictions_df = pd.DataFrame({\"price\": y_holdout_pred_original})\n"
      ]
    },
    {
      "cell_type": "code",
      "execution_count": 23,
      "metadata": {
        "colab": {
          "base_uri": "https://localhost:8080/"
        },
        "id": "N72SaSyjzE3D",
        "outputId": "ded9a94f-28fb-4162-cd40-1dd981c24f43"
      },
      "outputs": [
        {
          "name": "stdout",
          "output_type": "stream",
          "text": [
            "Predictions saved as team8-module3-predictions.csv\n"
          ]
        }
      ],
      "source": [
        "\n",
        "# Save in the required format\n",
        "team_name = \"team8\"  # Replace with your actual team name\n",
        "filename = f\"{team_name}-module3-predictions.csv\"\n",
        "predictions_df.to_csv(filename, index=False)\n",
        "\n",
        "print(f\"Predictions saved as {filename}\")"
      ]
    }
  ],
  "metadata": {
    "colab": {
      "provenance": []
    },
    "kernelspec": {
      "display_name": "Python 3",
      "name": "python3"
    },
    "language_info": {
      "codemirror_mode": {
        "name": "ipython",
        "version": 3
      },
      "file_extension": ".py",
      "mimetype": "text/x-python",
      "name": "python",
      "nbconvert_exporter": "python",
      "pygments_lexer": "ipython3",
      "version": "3.12.0"
    }
  },
  "nbformat": 4,
  "nbformat_minor": 0
}
