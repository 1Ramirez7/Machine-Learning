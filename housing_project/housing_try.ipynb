{
 "cells": [
  {
   "cell_type": "code",
   "execution_count": 2,
   "metadata": {},
   "outputs": [],
   "source": [
    "import xgboost as xgb\n",
    "import pandas as pd\n",
    "import numpy as np\n",
    "from sklearn.model_selection import train_test_split\n",
    "from sklearn.metrics import root_mean_squared_error, r2_score\n",
    "from sklearn.preprocessing import MinMaxScaler\n",
    "\n",
    "class BoostClass:\n",
    "    r2 =0\n",
    "    rmse = 0\n",
    "    n_estimators = 0\n",
    "    max_depth = 0\n",
    "    model = None\n",
    "\n",
    "    def __init__(self, r2 ,rmse , n_estimators , max_depth,model ):\n",
    "        self.r2 =r2\n",
    "        self.rmse = rmse\n",
    "        self.n_estimators = n_estimators\n",
    "        self.max_depth = max_depth\n",
    "        self.model = model\n",
    "\n",
    "    def toString(self):\n",
    "        return \"r2: \" , self.r2 , \", rmse:\" , self.rmse , \", n_estimators:\" , self.n_estimators , \", max depth:\" , self.max_depth\n",
    "\n",
    "def fixData(housing):\n",
    "    \"\"\"This removes the price column if it exists\"\"\"\n",
    "    if \"price\" in housing.columns:\n",
    "        housing = housing.drop([\"price\"], axis=1)\n",
    "        \n",
    "    # Convert the date column to datetime format\n",
    "    housing['date'] = pd.to_datetime(housing['date'], format='%Y%m%dT%H%M%S')\n",
    "\n",
    "    housing['day'] = housing['date'].dt.day\n",
    "    # Calculate the number of days in the current year\n",
    "    # housing['days_since_april_1st'] = (housing['date'].dt.dayofyear + 365 - 91) % 365\n",
    "\n",
    "    housing = housing.drop([\"id\", \"date\", \"day\"], axis=1)\n",
    "\n",
    "    # Add total sqft to housing\n",
    "\n",
    "\n",
    "    # housing[\"total_sqft\"] = housing[\"sqft_basement\"] + housing[\"sqft_living\"]\n",
    "    # # housing[\"age_since_renovation\"] = 2025 - housing[\"yr_renovated\"] if housing[\"yr_renovated\"] != 0 else 2025 - housing[\"yr_built\"]\n",
    "    # # Calculate age since renovation or age since built\n",
    "    # housing[\"age_since_renovation\"] = housing.apply(lambda row: 2025 - row[\"yr_renovated\"] if row[\"yr_renovated\"] != 0 else 2025 - row[\"yr_built\"], axis=1)\n",
    "\n",
    "    # scaler = MinMaxScaler(feature_range=(0, 1))\n",
    "\n",
    "    # for sqft in ['sqft_basement', 'sqft_living', 'sqft_lot', 'sqft_above', 'sqft_living15', 'sqft_lot15', 'total_sqft']:\n",
    "    #     housing[sqft] = scaler.fit_transform(housing[[sqft]])\n",
    "\n",
    "\n",
    "    # turn zip code into category\n",
    "    # housing[\"zipcode\"] = housing[\"zipcode\"].astype(\"category\")\n",
    "    # #Turn all categories into dummies\n",
    "    # housing = pd.get_dummies(housing)\n",
    "\n",
    "    # do this ^ or that \\/ or neither. Not Both!\n",
    "\n",
    "    # housing = housing.drop(\"zipcode\", axis=1)\n",
    "    print(\"COLUMNS: \",housing.columns)\n",
    "\n",
    "    return housing"
   ]
  },
  {
   "cell_type": "code",
   "execution_count": 10,
   "metadata": {},
   "outputs": [
    {
     "name": "stdout",
     "output_type": "stream",
     "text": [
      "<class 'pandas.core.frame.DataFrame'>\n",
      "RangeIndex: 20000 entries, 0 to 19999\n",
      "Data columns (total 21 columns):\n",
      " #   Column         Non-Null Count  Dtype  \n",
      "---  ------         --------------  -----  \n",
      " 0   id             20000 non-null  int64  \n",
      " 1   date           20000 non-null  object \n",
      " 2   bedrooms       20000 non-null  int64  \n",
      " 3   bathrooms      20000 non-null  float64\n",
      " 4   sqft_living    20000 non-null  int64  \n",
      " 5   sqft_lot       20000 non-null  int64  \n",
      " 6   floors         20000 non-null  float64\n",
      " 7   waterfront     20000 non-null  int64  \n",
      " 8   view           20000 non-null  int64  \n",
      " 9   condition      20000 non-null  int64  \n",
      " 10  grade          20000 non-null  int64  \n",
      " 11  sqft_above     20000 non-null  int64  \n",
      " 12  sqft_basement  20000 non-null  int64  \n",
      " 13  yr_built       20000 non-null  int64  \n",
      " 14  yr_renovated   20000 non-null  int64  \n",
      " 15  zipcode        20000 non-null  int64  \n",
      " 16  lat            20000 non-null  float64\n",
      " 17  long           20000 non-null  float64\n",
      " 18  sqft_living15  20000 non-null  int64  \n",
      " 19  sqft_lot15     20000 non-null  int64  \n",
      " 20  price          20000 non-null  float64\n",
      "dtypes: float64(5), int64(15), object(1)\n",
      "memory usage: 3.2+ MB\n"
     ]
    }
   ],
   "source": [
    "housing.info()"
   ]
  },
  {
   "cell_type": "code",
   "execution_count": 3,
   "metadata": {},
   "outputs": [
    {
     "name": "stderr",
     "output_type": "stream",
     "text": [
      "WARNING: Ignoring invalid distribution ~ (C:\\Python312\\Lib\\site-packages)\n",
      "WARNING: Ignoring invalid distribution ~-p (C:\\Python312\\Lib\\site-packages)\n",
      "WARNING: Ignoring invalid distribution ~ip (C:\\Python312\\Lib\\site-packages)\n",
      "WARNING: Ignoring invalid distribution ~~p (C:\\Python312\\Lib\\site-packages)\n",
      "WARNING: Ignoring invalid distribution ~ (C:\\Python312\\Lib\\site-packages)\n",
      "WARNING: Ignoring invalid distribution ~-p (C:\\Python312\\Lib\\site-packages)\n",
      "WARNING: Ignoring invalid distribution ~ip (C:\\Python312\\Lib\\site-packages)\n",
      "WARNING: Ignoring invalid distribution ~~p (C:\\Python312\\Lib\\site-packages)\n",
      "WARNING: Ignoring invalid distribution ~ (C:\\Python312\\Lib\\site-packages)\n",
      "WARNING: Ignoring invalid distribution ~-p (C:\\Python312\\Lib\\site-packages)\n",
      "WARNING: Ignoring invalid distribution ~ip (C:\\Python312\\Lib\\site-packages)\n",
      "WARNING: Ignoring invalid distribution ~~p (C:\\Python312\\Lib\\site-packages)\n",
      "\n",
      "[notice] A new release of pip is available: 24.3.1 -> 25.0\n",
      "[notice] To update, run: python.exe -m pip install --upgrade pip\n"
     ]
    },
    {
     "name": "stdout",
     "output_type": "stream",
     "text": [
      "Requirement already satisfied: scikit-learn==1.5.2 in c:\\python312\\lib\\site-packages (1.5.2)\n",
      "Requirement already satisfied: numpy>=1.19.5 in c:\\python312\\lib\\site-packages (from scikit-learn==1.5.2) (1.26.4)\n",
      "Requirement already satisfied: scipy>=1.6.0 in c:\\users\\david\\appdata\\roaming\\python\\python312\\site-packages (from scikit-learn==1.5.2) (1.15.1)\n",
      "Requirement already satisfied: joblib>=1.2.0 in c:\\users\\david\\appdata\\roaming\\python\\python312\\site-packages (from scikit-learn==1.5.2) (1.4.2)\n",
      "Requirement already satisfied: threadpoolctl>=3.1.0 in c:\\users\\david\\appdata\\roaming\\python\\python312\\site-packages (from scikit-learn==1.5.2) (3.5.0)\n"
     ]
    }
   ],
   "source": [
    "!pip install scikit-learn==1.5.2\n",
    "# run this line without the '!' in your terminal to have it installed locally\n",
    "# then you can skip running this\n",
    "\n",
    "\n",
    "\n",
    "# create days_since_april_1 column\n",
    "# convert dateTime to days out of 365\n",
    "# for each value, add 365, subtract april 1st as a number of days\n",
    "# for each value, mod by 365"
   ]
  },
  {
   "cell_type": "code",
   "execution_count": 4,
   "metadata": {},
   "outputs": [
    {
     "name": "stdout",
     "output_type": "stream",
     "text": [
      "COLUMNS:  Index(['bedrooms', 'bathrooms', 'sqft_living', 'sqft_lot', 'floors',\n",
      "       'waterfront', 'view', 'condition', 'grade', 'sqft_above',\n",
      "       'sqft_basement', 'yr_built', 'yr_renovated', 'zipcode', 'lat', 'long',\n",
      "       'sqft_living15', 'sqft_lot15'],\n",
      "      dtype='object')\n",
      "   bedrooms  bathrooms  sqft_living  sqft_lot  floors  waterfront  view  \\\n",
      "0         4       3.25         3760      4675     2.0           0     0   \n",
      "1         3       1.75         1460      7800     1.0           0     0   \n",
      "2         4       1.00         1340      5800     1.5           0     2   \n",
      "3         3       1.75         1440      8050     1.0           0     0   \n",
      "4         2       1.50         1780      4750     1.0           0     0   \n",
      "\n",
      "   condition  grade  sqft_above  sqft_basement  yr_built  yr_renovated  \\\n",
      "0          3      8        2740           1020      2007             0   \n",
      "1          2      7        1040            420      1979             0   \n",
      "2          3      7        1340              0      1914             0   \n",
      "3          3      8        1440              0      1985             0   \n",
      "4          4      7        1080            700      1947             0   \n",
      "\n",
      "   zipcode      lat     long  sqft_living15  sqft_lot15  \n",
      "0    98038  47.3862 -122.048           3280        4033  \n",
      "1    98023  47.3035 -122.382           1310        7865  \n",
      "2    98116  47.5658 -122.389           1900        5800  \n",
      "3    98023  47.3187 -122.390           1790        7488  \n",
      "4    98117  47.6859 -122.395           1690        5962  \n"
     ]
    }
   ],
   "source": [
    "# Load dataset\n",
    "housing = pd.read_csv('https://raw.githubusercontent.com/byui-cse/cse450-course/master/data/housing.csv')\n",
    "y = np.log1p(housing[\"price\"])  # Log transform target\n",
    "\n",
    "X = fixData(housing)\n",
    "print(X.head())"
   ]
  },
  {
   "cell_type": "code",
   "execution_count": 5,
   "metadata": {},
   "outputs": [],
   "source": [
    "# DO NOT RUN MORE THAN ONCE, we want to keep these variables\n",
    "boostClassList = []\n",
    "bestClass = None\n",
    "# best RMSE so far is ~127000\n",
    "# 1700 n-estimators, 5 depth"
   ]
  },
  {
   "cell_type": "code",
   "execution_count": null,
   "metadata": {},
   "outputs": [
    {
     "name": "stdout",
     "output_type": "stream",
     "text": [
      "R² Score: 0.8910\n",
      "RMSE: 128222.6510\n",
      "estimators:  1730 , depth:  6\n",
      "R² Score: 0.8911\n",
      "RMSE: 128175.4117\n",
      "estimators:  1731 , depth:  6\n",
      "R² Score: 0.8910\n",
      "RMSE: 128193.7961\n",
      "estimators:  1732 , depth:  6\n",
      "R² Score: 0.8910\n",
      "RMSE: 128195.9572\n",
      "estimators:  1733 , depth:  6\n",
      "R² Score: 0.8911\n",
      "RMSE: 128175.0933\n",
      "estimators:  1734 , depth:  6\n",
      "R² Score: 0.8911\n",
      "RMSE: 128176.4253\n",
      "estimators:  1735 , depth:  6\n",
      "R² Score: 0.8911\n",
      "RMSE: 128174.6904\n",
      "estimators:  1736 , depth:  6\n",
      "R² Score: 0.8911\n",
      "RMSE: 128179.9740\n",
      "estimators:  1737 , depth:  6\n",
      "R² Score: 0.8911\n",
      "RMSE: 128159.0499\n",
      "estimators:  1738 , depth:  6\n",
      "R² Score: 0.8911\n",
      "RMSE: 128162.9795\n",
      "estimators:  1739 , depth:  6\n",
      "R² Score: 0.8911\n",
      "RMSE: 128157.9473\n",
      "estimators:  1740 , depth:  6\n",
      "R² Score: 0.8911\n",
      "RMSE: 128152.1404\n",
      "estimators:  1741 , depth:  6\n",
      "R² Score: 0.8911\n",
      "RMSE: 128148.9563\n",
      "estimators:  1742 , depth:  6\n",
      "R² Score: 0.8911\n",
      "RMSE: 128156.5026\n",
      "estimators:  1743 , depth:  6\n",
      "R² Score: 0.8911\n",
      "RMSE: 128155.1492\n",
      "estimators:  1744 , depth:  6\n",
      "R² Score: 0.8911\n",
      "RMSE: 128156.1896\n",
      "estimators:  1745 , depth:  6\n",
      "R² Score: 0.8911\n",
      "RMSE: 128157.5727\n",
      "estimators:  1746 , depth:  6\n",
      "R² Score: 0.8911\n",
      "RMSE: 128160.3610\n",
      "estimators:  1747 , depth:  6\n",
      "R² Score: 0.8911\n",
      "RMSE: 128181.7397\n",
      "estimators:  1748 , depth:  6\n",
      "R² Score: 0.8911\n",
      "RMSE: 128176.3471\n",
      "estimators:  1749 , depth:  6\n",
      "Done!\n",
      "('r2: ', 0.9058821995518188, ', rmse:', 128148.95630794528, ', n_estimators:', 1742, ', max depth:', 6)\n"
     ]
    }
   ],
   "source": [
    "# Split into train and test sets\n",
    "X_train, X_test, y_train, y_test = train_test_split(X, y, test_size=0.20, random_state=42)\n",
    "\n",
    "\n",
    "# Create XGBoost regressor\n",
    "for n in range(1):\n",
    "    for colsample in range(1):\n",
    "        n = 1742\n",
    "        d = 6\n",
    "        model = xgb.XGBRegressor(objective=\"reg:squarederror\", eval_metric=\"rmse\", subsample=0.6,\n",
    "                            n_estimators=n, max_depth=d, learning_rate=0.01, colsample_bytree=0.7)\n",
    "\n",
    "        # Train model\n",
    "        model.fit(X_train, y_train)\n",
    "\n",
    "        # Make predictions on test set\n",
    "        y_pred = model.predict(X_test)\n",
    "        y_non_log_test = np.expm1(y_test)\n",
    "        y_non_log_pred = np.expm1(y_pred)\n",
    "\n",
    "        rmse = root_mean_squared_error(y_non_log_test, y_non_log_pred)\n",
    "        # return from a log of cost to cost\n",
    "        r2 = r2_score(y_test, y_pred)  # Compute R^2\n",
    "        r2_non_log = r2_score(y_non_log_test, y_non_log_pred)\n",
    "\n",
    "        print(f\"R² Score: {r2_non_log:.4f}\")\n",
    "        print(f\"RMSE: {rmse:.4f}\")\n",
    "        print(\"estimators: \",n,\", depth: \",d)\n",
    "\n",
    "        boostClass = BoostClass(r2, rmse, n, d, model)\n",
    "        boostClassList.append(boostClass)\n",
    "        if (bestClass != None):\n",
    "            if (boostClass.r2 > bestClass.r2):\n",
    "                bestClass = boostClass\n",
    "        else:\n",
    "            bestClass = boostClass\n",
    "print(\"Done!\")\n",
    "# Evaluate performance\n",
    "print(bestClass.toString())"
   ]
  },
  {
   "cell_type": "code",
   "execution_count": 7,
   "metadata": {},
   "outputs": [
    {
     "name": "stdout",
     "output_type": "stream",
     "text": [
      "COLUMNS:  Index(['bedrooms', 'bathrooms', 'sqft_living', 'sqft_lot', 'floors',\n",
      "       'waterfront', 'view', 'condition', 'grade', 'sqft_above',\n",
      "       'sqft_basement', 'yr_built', 'yr_renovated', 'zipcode', 'lat', 'long',\n",
      "       'sqft_living15', 'sqft_lot15'],\n",
      "      dtype='object')\n"
     ]
    }
   ],
   "source": [
    "# Load the holdout dataset\n",
    "holdout_data = pd.read_csv('https://raw.githubusercontent.com/byui-cse/cse450-course/master/data/housing_holdout_test_mini.csv')\n",
    "\n",
    "X_holdout = fixData(holdout_data)\n",
    "\n",
    "# Predict using the trained model\n",
    "y_holdout_pred = model.predict(X_holdout)\n",
    "\n",
    "# Convert predictions back to original scale\n",
    "y_holdout_pred_original = np.expm1(y_holdout_pred)\n",
    "\n",
    "# Create DataFrame with correct format\n",
    "predictions_df = pd.DataFrame({\"price\": y_holdout_pred_original})\n"
   ]
  },
  {
   "cell_type": "code",
   "execution_count": 8,
   "metadata": {},
   "outputs": [
    {
     "name": "stdout",
     "output_type": "stream",
     "text": [
      "Predictions saved as team8-module3-predictions.csv\n"
     ]
    }
   ],
   "source": [
    "\n",
    "# Save in the required format\n",
    "team_name = \"team8\"  # Replace with your actual team name\n",
    "filename = f\"{team_name}-module3-predictions.csv\"\n",
    "predictions_df.to_csv(filename, index=False)\n",
    "\n",
    "print(f\"Predictions saved as {filename}\")"
   ]
  },
  {
   "cell_type": "code",
   "execution_count": 9,
   "metadata": {},
   "outputs": [
    {
     "name": "stdout",
     "output_type": "stream",
     "text": [
      "RMSE:  99071.30569900123 | r2:  0.8798733984219567\n"
     ]
    }
   ],
   "source": [
    "#Take the predictions on the holdout data set and compare them to the actual prices found in this file\n",
    "actual_df = pd.read_csv(\"https://raw.githubusercontent.com/byui-cse/cse450-course/refs/heads/master/data/housing_holdout_test_mini_answers.csv\")\n",
    "rmse = root_mean_squared_error(actual_df, predictions_df)\n",
    "r2 = r2_score(actual_df, predictions_df)\n",
    "print(\"RMSE: \", rmse, \"| r2: \", r2)"
   ]
  }
 ],
 "metadata": {
  "kernelspec": {
   "display_name": "Python 3",
   "language": "python",
   "name": "python3"
  },
  "language_info": {
   "codemirror_mode": {
    "name": "ipython",
    "version": 3
   },
   "file_extension": ".py",
   "mimetype": "text/x-python",
   "name": "python",
   "nbconvert_exporter": "python",
   "pygments_lexer": "ipython3",
   "version": "3.12.0"
  }
 },
 "nbformat": 4,
 "nbformat_minor": 2
}
